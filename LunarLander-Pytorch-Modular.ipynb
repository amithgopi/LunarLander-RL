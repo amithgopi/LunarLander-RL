{
 "cells": [
  {
   "cell_type": "code",
   "execution_count": 14,
   "id": "813884c4-0d79-4eb7-83cb-c4b45aa9fdb8",
   "metadata": {},
   "outputs": [
    {
     "data": {
      "text/plain": [
       "device(type='cuda', index=0)"
      ]
     },
     "execution_count": 14,
     "metadata": {},
     "output_type": "execute_result"
    }
   ],
   "source": [
    "import gym\n",
    "import numpy as np\n",
    "import random\n",
    "import time\n",
    "from matplotlib import pyplot as plt\n",
    "\n",
    "from collections import deque\n",
    "\n",
    "import torch\n",
    "import torch.nn as nn\n",
    "import torch.nn.functional as F\n",
    "import torch.optim as optim\n",
    "\n",
    "device = torch.device('cuda:0' if torch.cuda.is_available() else 'cpu')\n",
    "# device = torch.device('cpu')\n",
    "device"
   ]
  },
  {
   "cell_type": "code",
   "execution_count": 15,
   "id": "cf1eb8be-7a77-49ab-88f8-238cb3304659",
   "metadata": {},
   "outputs": [],
   "source": [
    "random.seed(time.time())\n",
    "# Create the lunar lander environment\n",
    "env = gym.make(\"LunarLander-v2\")\n",
    "env.reset(seed=int(time.time()))\n",
    "\n",
    "# Define global variables\n",
    "epsilonDecayFactor = 0.995\n",
    "learningRate = 0.0005\n",
    "gamma = 0.99\n",
    "batchSize = 64\n"
   ]
  },
  {
   "cell_type": "markdown",
   "id": "28b2cbcc-2fc5-4331-a52e-d91fb177c96e",
   "metadata": {},
   "source": [
    "## Neural Netwrok"
   ]
  },
  {
   "cell_type": "code",
   "execution_count": 16,
   "id": "ea5b713f-cbc0-4be2-aa95-d82c7c1cd709",
   "metadata": {},
   "outputs": [],
   "source": [
    "# Create a neural network for q function approximation\n",
    "class NeuralNetwork(nn.Module):\n",
    "    def __init__(self, inputSize, outputSize):\n",
    "        super(NeuralNetwork, self).__init__()\n",
    "        # Use a three layer network layer1 (8, 128), layer2 (128, 128), layer3 (128, 4)\n",
    "        self.netwrokModel = nn.Sequential(\n",
    "            nn.Linear(inputSize, 128),\n",
    "            nn.ReLU(),\n",
    "            nn.Linear(128, 128),\n",
    "            nn.ReLU(),\n",
    "            nn.Linear(128, outputSize),\n",
    "        )\n",
    "\n",
    "    def forward(self, x):\n",
    "        output = self.netwrokModel(x)\n",
    "        return output"
   ]
  },
  {
   "cell_type": "markdown",
   "id": "b87564a7-fe5b-4c53-8fb5-7d80197529da",
   "metadata": {},
   "source": [
    "## Deep Q Learning"
   ]
  },
  {
   "cell_type": "code",
   "execution_count": 17,
   "id": "f1d5b62f-c78e-4bd2-b84c-9b46dfe5583e",
   "metadata": {},
   "outputs": [],
   "source": [
    "# Class to implement the DQN process\n",
    "class DQN():\n",
    "    # Initialize class paramters\n",
    "    def __init__(self, epsilonMin_ = 0.03, epsilonDecayFactor_ = epsilonDecayFactor, learningRate_ = learningRate):\n",
    "        self.inputSize = env.observation_space.shape[0]\n",
    "        self.outputSize = env.action_space.n\n",
    "        self.epsilon = 1.0\n",
    "        self.epsilonMin = epsilonMin_\n",
    "        self.epsilonDecayFactor = epsilonDecayFactor_\n",
    "        self.learningRate = learningRate_\n",
    "        self.gamma = gamma\n",
    "        # self.totalEpisodes = 3000\n",
    "        self.syncTargetNetwork = 1000 # When to copy current network paramters to target netowrk\n",
    "        self.stepCount = 0\n",
    "        \n",
    "        # Create the two neural network instances\n",
    "        self.currentNetwork = NeuralNetwork(inputSize = self.inputSize, outputSize = self.outputSize).to(device)\n",
    "        self.targetNetwork = NeuralNetwork(inputSize = self.inputSize, outputSize = self.outputSize).to(device)\n",
    "        # Optimizer and loss criterion for the networks\n",
    "        self.optimizer = optim.Adam(self.currentNetwork.parameters(), lr=learningRate)\n",
    "        self.criterion = nn.MSELoss()  # using mean square error as loss function\n",
    "        \n",
    "        # Initialize the replay buffer\n",
    "        self.replayBuffer = deque(maxlen=100000)\n",
    "\n",
    "    # Decay eploration (epsilon) by the decay factor till it hits min value    \n",
    "    def decayEpsilon(self):\n",
    "        self.epsilon = max(self.epsilon*self.epsilonDecayFactor, self.epsilonMin)\n",
    "        return self.epsilon\n",
    "    \n",
    "    # Choose an action for a given state based on epsilon greedy policy\n",
    "    def chooseAction(self, state, useRandomPolicy = False):\n",
    "        action = 0\n",
    "        # Explorative choice\n",
    "        if useRandomPolicy or np.random.uniform(0, 1) < self.epsilon:\n",
    "            action  = random.randrange(0, self.outputSize)\n",
    "        # Exploitative choice\n",
    "        else:\n",
    "            self.currentNetwork.eval()  # Switch network to evaluation mode\n",
    "            with torch.no_grad():\n",
    "                action = self.currentNetwork(torch.tensor(state).to(device)).argmax().item()\n",
    "            self.currentNetwork.train() # Switch network back to training mode\n",
    "        return action\n",
    "    \n",
    "    # Get best actyion from trained policy\n",
    "    def getBestAction(self, state):\n",
    "        return self.currentNetwork(torch.tensor(state).to(device)).argmax().item()\n",
    "    \n",
    "    # Implemnt the q learning function when experience replay is enabled\n",
    "    def learnWithReplay(self):\n",
    "        # Check if sufficient samples are present in replay buffer\n",
    "        if len(self.replayBuffer) > batchSize:\n",
    "            # sample a mini batch from the buffer\n",
    "            sampleBatch = random.sample(self.replayBuffer, batchSize)\n",
    "            # convert the sample values to tensors to pass to the network\n",
    "            stateList = torch.tensor(np.array([sample[0] for sample in sampleBatch])).float().to(device)\n",
    "            actions = torch.tensor([[sample[1]] for sample in sampleBatch]).to(device)\n",
    "            nextStateList = torch.tensor(np.array([sample[2] for sample in sampleBatch])).float().to(device)\n",
    "            rewards = torch.tensor([[sample[3]] for sample in sampleBatch]).float().to(device)\n",
    "            terminalList = torch.tensor([[1 if sample[4] else 0] for sample in sampleBatch]).to(device)\n",
    "            # Calculate the target Q values\n",
    "            QtMax = self.targetNetwork(nextStateList).detach().max(1)[0].unsqueeze(1)\n",
    "            targets = rewards + gamma*(QtMax)*(1 - terminalList)\n",
    "            # Compute current Q value approximations\n",
    "            currentOutput = self.currentNetwork(stateList).gather(1, actions)\n",
    "            # Train the network\n",
    "            loss = self.criterion(currentOutput, targets)\n",
    "            self.optimizer.zero_grad()   # zero the gradient buffers\n",
    "            loss.backward()\n",
    "            self.optimizer.step()\n",
    "     \n",
    "    # Implemnt the Q learning function with experience replay disabled\n",
    "    def learnWithoutReplay(self, sample):\n",
    "        # Directly run the sample through the Q learning process\n",
    "        state, action, nextState, reward, terminal = sample\n",
    "        # Convert sample values to tensors\n",
    "        state = torch.tensor(state).to(device)\n",
    "        nextState = torch.tensor(nextState).to(device)\n",
    "        reward =  torch.tensor(reward).to(device)\n",
    "        qt = self.targetNetwork(nextState).detach().max()\n",
    "        # print(qt, qt.size())\n",
    "        target = (reward + gamma*(qt)*(1-terminal)).float()\n",
    "        # print(target.size())\n",
    "        current = self.currentNetwork(state)[action].float()\n",
    "        # print(current.size())\n",
    "        # Train the network\n",
    "        loss = self.criterion(current, target)\n",
    "        self.optimizer.zero_grad()   # zero the gradient buffers\n",
    "        loss.backward()\n",
    "        self.optimizer.step()\n",
    "        \n",
    "    # Run the learning algorithm for a given step\n",
    "    def run(self, sample, useReplay = True):\n",
    "        # Check if replay is enabled and choose the corresponding learning option\n",
    "        if useReplay:\n",
    "            # Add sample to buffer and learn\n",
    "            self.replayBuffer.append(sample)\n",
    "            self.learnWithReplay()\n",
    "        else:\n",
    "            self.learnWithoutReplay(sample)\n",
    "        # Increment overall step count   \n",
    "        self.stepCount += 1\n",
    "        # Update the target network\n",
    "        self.updateTargetNetwork()\n",
    "    \n",
    "    # Update the target network every N number of steps (given by self.syncTargetNetwork)\n",
    "    def updateTargetNetwork(self):\n",
    "        if self.stepCount % self.syncTargetNetwork == 0:\n",
    "            self.targetNetwork.load_state_dict(self.currentNetwork.state_dict())\n",
    "            \n",
    "    # Save the network to a file\n",
    "    def saveNetwork(self):\n",
    "        torch.save(self.currentNetwork.state_dict(), './model.torch')\n",
    "    \n",
    "    # Load network weights from fiel\n",
    "    def loadNetwork(self, fileName=\"model\"):\n",
    "        modelFromFile = torch.load('./'+fileName+'.torch')\n",
    "        print(modelFromFile, type(modelFromFile))\n",
    "        self.currentNetwork.load_state_dict(modelFromFile)\n",
    "        "
   ]
  },
  {
   "cell_type": "code",
   "execution_count": 18,
   "id": "84736050-86d0-4f6f-bf07-880c00f84881",
   "metadata": {},
   "outputs": [],
   "source": [
    "# Runs the main training loop\n",
    "def trainAgent(agent, totalEpisodes = 2000, steps = 1000, useReplay = True, targetReward = 200, useRandomPolicy = False):\n",
    "    rewardList = []\n",
    "    meanRewards = []\n",
    "    # Iterate over episodes\n",
    "    for episode in range(totalEpisodes):\n",
    "        state = env.reset()\n",
    "        totalReward = 0\n",
    "        # Go through the steps for ea100000pisode\n",
    "        for step in range(steps):\n",
    "            # env.render()\n",
    "            action = agent.chooseAction(state, useRandomPolicy)\n",
    "            nextState, reward, terminal, _ = env.step(action)\n",
    "            sample = (state, action, nextState, reward, terminal)\n",
    "            # Run an iteration of the learning algorithm for the agent\n",
    "            agent.run(sample, useReplay)\n",
    "            # Update cumulative reward and state\n",
    "            totalReward += reward\n",
    "            state = nextState\n",
    "            # Stop on terminal state\n",
    "            if terminal: break\n",
    "        # Decay epsilon every episode\n",
    "        agent.decayEpsilon()\n",
    "        rewardList.append(totalReward)\n",
    "        mean = np.mean(rewardList[-100:])\n",
    "        if episode%100 == 0: print(\"Episode : {}\\t epsilon : {:.3f}\\t Reward : {:.2f}\".format(episode, agent.epsilon, mean))\n",
    "        meanRewards.append(mean)\n",
    "        # Step when mean reward exceeds 220\n",
    "        if mean > targetReward and len(meanRewards)>100:\n",
    "            print(\"Training complete in\", episode, \"episodes, with mean reward (last 100): \", mean)\n",
    "            break\n",
    "    return rewardList, meanRewards"
   ]
  },
  {
   "cell_type": "markdown",
   "id": "188818e2-317d-4797-8276-d2553f6d9ec6",
   "metadata": {},
   "source": [
    "## Frozen Targets with Experience Replay"
   ]
  },
  {
   "cell_type": "code",
   "execution_count": 19,
   "id": "17316947-03bb-4598-a40c-476e3653d9d3",
   "metadata": {},
   "outputs": [
    {
     "name": "stdout",
     "output_type": "stream",
     "text": [
      "Episode : 0\t epsilon : 0.995\t Reward : -226.65\n",
      "Episode : 100\t epsilon : 0.603\t Reward : -135.29\n",
      "Episode : 200\t epsilon : 0.365\t Reward : -61.89\n",
      "Episode : 300\t epsilon : 0.221\t Reward : 39.56\n",
      "Episode : 400\t epsilon : 0.134\t Reward : 163.27\n",
      "Training complete in 466 episodes, with mean reward (last 100):  221.1670513476556\n"
     ]
    }
   ],
   "source": [
    "# Create instance of the DQN agent\n",
    "landerAgent = DQN()            \n",
    "rewards , avgRewards_1  = trainAgent(landerAgent, targetReward=220)"
   ]
  },
  {
   "cell_type": "code",
   "execution_count": 20,
   "id": "687a17af-f582-42f7-b5aa-c1dfe829f38f",
   "metadata": {},
   "outputs": [
    {
     "data": {
      "image/png": "[encoded data removed]",
      "text/plain": [
       "<Figure size 432x288 with 1 Axes>"
      ]
     },
     "metadata": {
      "needs_background": "light"
     },
     "output_type": "display_data"
    }
   ],
   "source": [
    "plt.figure()\n",
    "plt.plot(range(len(avgRewards_1)), avgRewards_1)\n",
    "plt.xlabel(\"Episodes\")\n",
    "plt.ylabel(\"Cumulative Reward (Moving Average: 100)\")\n",
    "plt.title(\"Reward per episode (DQN with Exp Replay)\")\n",
    "plt.show()\n",
    "landerAgent.saveNetwork()"
   ]
  },
  {
   "cell_type": "markdown",
   "id": "283b476e-4027-467d-9820-d6a025b9ecde",
   "metadata": {},
   "source": [
    "## No Experience Replay (Frozen Targets)"
   ]
  },
  {
   "cell_type": "code",
   "execution_count": 115,
   "id": "d1dcdd62-23ae-4786-894d-357a0dbf9d17",
   "metadata": {},
   "outputs": [
    {
     "name": "stdout",
     "output_type": "stream",
     "text": [
      "Episode : 0\t epsilon : 0.999\t Reward : -329.87\n",
      "Episode : 100\t epsilon : 0.859\t Reward : -182.58\n",
      "Episode : 200\t epsilon : 0.740\t Reward : -186.14\n",
      "Episode : 300\t epsilon : 0.636\t Reward : -162.56\n",
      "Episode : 400\t epsilon : 0.548\t Reward : -136.35\n",
      "Episode : 500\t epsilon : 0.471\t Reward : -151.69\n",
      "Episode : 600\t epsilon : 0.406\t Reward : -109.55\n",
      "Episode : 700\t epsilon : 0.349\t Reward : -111.66\n",
      "Episode : 800\t epsilon : 0.300\t Reward : -64.68\n",
      "Episode : 900\t epsilon : 0.259\t Reward : -32.09\n",
      "Episode : 1000\t epsilon : 0.223\t Reward : -10.23\n",
      "Episode : 1100\t epsilon : 0.192\t Reward : -32.28\n",
      "Episode : 1200\t epsilon : 0.165\t Reward : -4.51\n",
      "Episode : 1300\t epsilon : 0.142\t Reward : 9.59\n",
      "Episode : 1400\t epsilon : 0.122\t Reward : 0.12\n",
      "Episode : 1500\t epsilon : 0.105\t Reward : -17.37\n",
      "Episode : 1600\t epsilon : 0.090\t Reward : 7.91\n",
      "Episode : 1700\t epsilon : 0.078\t Reward : 14.41\n",
      "Episode : 1800\t epsilon : 0.067\t Reward : 40.31\n",
      "Episode : 1900\t epsilon : 0.058\t Reward : 69.25\n",
      "Episode : 2000\t epsilon : 0.050\t Reward : 39.70\n",
      "Episode : 2100\t epsilon : 0.043\t Reward : 54.30\n",
      "Episode : 2200\t epsilon : 0.037\t Reward : -17.47\n",
      "Episode : 2300\t epsilon : 0.032\t Reward : 38.30\n",
      "Episode : 2400\t epsilon : 0.030\t Reward : 12.73\n",
      "Episode : 2500\t epsilon : 0.030\t Reward : 25.44\n",
      "Episode : 2600\t epsilon : 0.030\t Reward : 21.01\n",
      "Episode : 2700\t epsilon : 0.030\t Reward : 46.72\n",
      "Episode : 2800\t epsilon : 0.030\t Reward : 80.57\n",
      "Episode : 2900\t epsilon : 0.030\t Reward : 138.31\n",
      "Episode : 3000\t epsilon : 0.030\t Reward : 64.16\n",
      "Episode : 3100\t epsilon : 0.030\t Reward : 64.95\n",
      "Episode : 3200\t epsilon : 0.030\t Reward : 91.64\n",
      "Episode : 3300\t epsilon : 0.030\t Reward : 83.28\n",
      "Episode : 3400\t epsilon : 0.030\t Reward : 57.26\n",
      "Episode : 3500\t epsilon : 0.030\t Reward : 27.34\n",
      "Episode : 3600\t epsilon : 0.030\t Reward : 129.38\n",
      "Episode : 3700\t epsilon : 0.030\t Reward : 47.80\n",
      "Episode : 3800\t epsilon : 0.030\t Reward : 47.23\n",
      "Episode : 3900\t epsilon : 0.030\t Reward : 59.67\n",
      "Episode : 4000\t epsilon : 0.030\t Reward : 39.22\n",
      "Episode : 4100\t epsilon : 0.030\t Reward : 109.49\n",
      "Episode : 4200\t epsilon : 0.030\t Reward : 147.44\n",
      "Episode : 4300\t epsilon : 0.030\t Reward : -151.91\n",
      "Episode : 4400\t epsilon : 0.030\t Reward : -103.12\n",
      "Episode : 4500\t epsilon : 0.030\t Reward : -47.01\n",
      "Episode : 4600\t epsilon : 0.030\t Reward : 10.07\n",
      "Episode : 4700\t epsilon : 0.030\t Reward : 113.83\n",
      "Episode : 4800\t epsilon : 0.030\t Reward : 184.72\n",
      "Training complete in 4833 episodes, with mean reward (last 100):  200.27358522907303\n"
     ]
    }
   ],
   "source": [
    "# Case with no replay buffer\n",
    "landerAgentNoReplay = DQN(epsilonDecayFactor_=0.9985, learningRate_ = 0.0001)\n",
    "rewards, avgRewards = trainAgent(landerAgentNoReplay, totalEpisodes = 8000, useReplay=False)\n"
   ]
  },
  {
   "cell_type": "code",
   "execution_count": 116,
   "id": "f4f52dab-4543-495e-8b48-cd9f9def2ed7",
   "metadata": {},
   "outputs": [
    {
     "data": {
      "image/png": "[encoded data removed]",
      "text/plain": [
       "<Figure size 432x288 with 1 Axes>"
      ]
     },
     "metadata": {
      "needs_background": "light"
     },
     "output_type": "display_data"
    }
   ],
   "source": [
    "plt.figure()\n",
    "plt.plot(range(len(avgRewards)), avgRewards)\n",
    "plt.xlabel(\"Episodes\")\n",
    "plt.ylabel(\"Cumulative Reward (Moving Average: 100)\")\n",
    "plt.title(\"Reward per episode (DQN without Exp Replay)\")\n",
    "plt.show()"
   ]
  },
  {
   "cell_type": "markdown",
   "id": "4a64c6ed-eb52-434e-9900-233de71a3f89",
   "metadata": {},
   "source": [
    "## Random Policy"
   ]
  },
  {
   "cell_type": "code",
   "execution_count": 133,
   "id": "ad28dc9c-8bb7-4d45-8dd8-734f0c25eec1",
   "metadata": {},
   "outputs": [
    {
     "name": "stdout",
     "output_type": "stream",
     "text": [
      "Episode : 0\t epsilon : 0.995\t Reward : -243.33\n",
      "Episode : 100\t epsilon : 0.603\t Reward : -190.34\n",
      "Episode : 200\t epsilon : 0.365\t Reward : -161.91\n",
      "Episode : 300\t epsilon : 0.221\t Reward : -175.33\n",
      "Episode : 400\t epsilon : 0.134\t Reward : -186.50\n",
      "Episode : 500\t epsilon : 0.081\t Reward : -183.28\n",
      "Episode : 600\t epsilon : 0.049\t Reward : -184.99\n",
      "Episode : 700\t epsilon : 0.030\t Reward : -185.56\n",
      "Episode : 800\t epsilon : 0.030\t Reward : -182.74\n",
      "Episode : 900\t epsilon : 0.030\t Reward : -170.41\n",
      "Episode : 1000\t epsilon : 0.030\t Reward : -200.54\n",
      "Episode : 1100\t epsilon : 0.030\t Reward : -180.38\n",
      "Episode : 1200\t epsilon : 0.030\t Reward : -184.57\n",
      "Episode : 1300\t epsilon : 0.030\t Reward : -173.51\n",
      "Episode : 1400\t epsilon : 0.030\t Reward : -182.60\n",
      "Episode : 1500\t epsilon : 0.030\t Reward : -165.32\n",
      "Episode : 1600\t epsilon : 0.030\t Reward : -190.27\n",
      "Episode : 1700\t epsilon : 0.030\t Reward : -183.05\n",
      "Episode : 1800\t epsilon : 0.030\t Reward : -182.38\n",
      "Episode : 1900\t epsilon : 0.030\t Reward : -173.91\n",
      "Episode : 2000\t epsilon : 0.030\t Reward : -184.77\n",
      "Episode : 2100\t epsilon : 0.030\t Reward : -168.57\n",
      "Episode : 2200\t epsilon : 0.030\t Reward : -202.20\n",
      "Episode : 2300\t epsilon : 0.030\t Reward : -177.77\n",
      "Episode : 2400\t epsilon : 0.030\t Reward : -198.84\n",
      "Episode : 2500\t epsilon : 0.030\t Reward : -187.22\n",
      "Episode : 2600\t epsilon : 0.030\t Reward : -173.88\n",
      "Episode : 2700\t epsilon : 0.030\t Reward : -181.68\n",
      "Episode : 2800\t epsilon : 0.030\t Reward : -175.75\n",
      "Episode : 2900\t epsilon : 0.030\t Reward : -154.49\n",
      "Episode : 3000\t epsilon : 0.030\t Reward : -174.97\n",
      "Episode : 3100\t epsilon : 0.030\t Reward : -187.33\n",
      "Episode : 3200\t epsilon : 0.030\t Reward : -163.92\n",
      "Episode : 3300\t epsilon : 0.030\t Reward : -173.33\n",
      "Episode : 3400\t epsilon : 0.030\t Reward : -189.94\n",
      "Episode : 3500\t epsilon : 0.030\t Reward : -173.41\n",
      "Episode : 3600\t epsilon : 0.030\t Reward : -217.33\n",
      "Episode : 3700\t epsilon : 0.030\t Reward : -181.72\n",
      "Episode : 3800\t epsilon : 0.030\t Reward : -201.48\n",
      "Episode : 3900\t epsilon : 0.030\t Reward : -168.13\n"
     ]
    }
   ],
   "source": [
    "# Using a fully random policy for learning\n",
    "landerRandomPolicy = DQN()\n",
    "_, avgRewards = trainAgent(landerRandomPolicy, totalEpisodes = 4000, useRandomPolicy=True)"
   ]
  },
  {
   "cell_type": "code",
   "execution_count": null,
   "id": "fdeb49d4-ebe3-4787-b38e-e01bba8e4d48",
   "metadata": {},
   "outputs": [],
   "source": [
    "plt.figure()\n",
    "plt.plot(range(len(avgRewards)), avgRewards)\n",
    "plt.xlabel(\"Episodes\")\n",
    "plt.ylabel(\"Cumulative Reward (Average: 100 ep)\")\n",
    "plt.title(\"Reward per episode (Random Policy)\")\n",
    "plt.show()"
   ]
  },
  {
   "cell_type": "markdown",
   "id": "2b9e5329-b7b8-4450-942e-00a4ce1f6782",
   "metadata": {},
   "source": [
    "## Test the result - Render Env"
   ]
  },
  {
   "cell_type": "code",
   "execution_count": 81,
   "id": "4934240d-356b-46aa-80db-119450a748e5",
   "metadata": {},
   "outputs": [],
   "source": [
    "def test(agent):\n",
    "    state = env.reset()\n",
    "    agent.currentNetwork.eval()\n",
    "    for step in range(1000):\n",
    "        env.render()\n",
    "        action = agent.getBestAction(state)\n",
    "        state, reward, terminal, _  = env.step(action)\n",
    "        if terminal: break\n",
    "        "
   ]
  },
  {
   "cell_type": "code",
   "execution_count": 88,
   "id": "15f233dc-219e-4c23-a640-50200007b665",
   "metadata": {},
   "outputs": [],
   "source": [
    "test(landerAgent)"
   ]
  },
  {
   "cell_type": "markdown",
   "id": "cfdc95ba-a834-4164-896c-dc7ba9ddef33",
   "metadata": {},
   "source": [
    "## Save Video"
   ]
  },
  {
   "cell_type": "code",
   "execution_count": 23,
   "id": "c03778ca-0b1a-43ce-9b12-d176c47fdd9a",
   "metadata": {},
   "outputs": [],
   "source": [
    "from gym import wrappers\n",
    "\n",
    "def recordVideo(agent):\n",
    "    env = wrappers.RecordVideo(gym.make(\"LunarLander-v2\"), \"./output.mp4\")\n",
    "    agent.currentNetwork.eval()\n",
    "    state = env.reset()\n",
    "    terminal = False\n",
    "    while not terminal:\n",
    "        action = agent.getBestAction(state)\n",
    "        state, reward, terminal, _ = env.step(action)        \n",
    "    env.close()"
   ]
  },
  {
   "cell_type": "code",
   "execution_count": 24,
   "id": "a265c8e2-935a-472a-aeff-24d70ff5f628",
   "metadata": {},
   "outputs": [],
   "source": [
    "recordVideo(landerAgent)"
   ]
  },
  {
   "cell_type": "code",
   "execution_count": null,
   "id": "11c2032a-f951-4289-911c-e226d90a69a7",
   "metadata": {},
   "outputs": [],
   "source": []
  }
 ],
 "metadata": {
  "kernelspec": {
   "display_name": "Python 3 (ipykernel)",
   "language": "python",
   "name": "python3"
  },
  "language_info": {
   "codemirror_mode": {
    "name": "ipython",
    "version": 3
   },
   "file_extension": ".py",
   "mimetype": "text/x-python",
   "name": "python",
   "nbconvert_exporter": "python",
   "pygments_lexer": "ipython3",
   "version": "3.9.1"
  }
 },
 "nbformat": 4,
 "nbformat_minor": 5
}
